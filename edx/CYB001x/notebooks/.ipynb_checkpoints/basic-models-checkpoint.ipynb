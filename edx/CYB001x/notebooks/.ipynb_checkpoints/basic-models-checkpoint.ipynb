{
 "cells": [
  {
   "cell_type": "markdown",
   "metadata": {},
   "source": [
    "# Basics Model\n",
    "The main problem that we face in the cyber security here is about maintaining data integrity as well as availability, but not how to maintain confidentials and secrets. Here, we looked at two high level models that can be used to guide in decision making. Although there are many avelibe industry standard tools such as intrusion detection and firewall that can be easily adopted, we not really sure that by implementing that tools guarantee our system from being violated or introded. So, our approach here is by thinking about investment in control and prioritization to maintaining data integrity and availability."
   ]
  },
  {
   "cell_type": "markdown",
   "metadata": {},
   "source": [
    "<img src='basic ia principles.png'>"
   ]
  },
  {
   "cell_type": "code",
   "execution_count": null,
   "metadata": {},
   "outputs": [],
   "source": []
  }
 ],
 "metadata": {
  "kernelspec": {
   "display_name": "Python 3",
   "language": "python",
   "name": "python3"
  },
  "language_info": {
   "codemirror_mode": {
    "name": "ipython",
    "version": 3
   },
   "file_extension": ".py",
   "mimetype": "text/x-python",
   "name": "python",
   "nbconvert_exporter": "python",
   "pygments_lexer": "ipython3",
   "version": "3.5.2"
  }
 },
 "nbformat": 4,
 "nbformat_minor": 2
}
