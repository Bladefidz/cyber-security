{
 "cells": [
  {
   "cell_type": "markdown",
   "metadata": {},
   "source": [
    "# BASIC CONCEPTS"
   ]
  },
  {
   "cell_type": "markdown",
   "metadata": {},
   "source": [
    "## Framework for Critical Infrastructure Cycbersecurity\n",
    "We used Framework for [Critical Infrastructure Cybersecurity version 1.0](https://www.nist.gov/sites/default/files/documents/cyberframework/cybersecurity-framework-021214.pdf) that was developed by NIST (National Institute of Standards and Technologies) that was published in 2014. This framework provide common notion and understanding about management and information decision flow in the organizational level. This framework used by many practitioners as reliable tool in talking to management at all level. It is reliable since this framework can be used to translate technical language used by engineer into broad concept that can be easily understood by people at management level."
   ]
  },
  {
   "cell_type": "markdown",
   "metadata": {},
   "source": [
    "Consider the a common organization flow illustrated in the image below:"
   ]
  },
  {
   "cell_type": "code",
   "execution_count": null,
   "metadata": {},
   "outputs": [],
   "source": [
    "<img src='org-flows.jpg'>"
   ]
  },
  {
   "cell_type": "markdown",
   "metadata": {},
   "source": [
    "At the top level, there is executive level working together with people in management level. Then, some people at management level talking to operations level to disscuss about the implementation. This notion tells us that each level talking in very different languages correspond to their task. This why we need a framework that can be adapted easily to provided communication in all level in the organization, especially on the top-down communication."
   ]
  },
  {
   "cell_type": "markdown",
   "metadata": {},
   "source": [
    "This Framework for Critical Infrastructure Cycbersecurity is very simple and efficent. The core structure of this framework illustrated in the image below:"
   ]
  },
  {
   "cell_type": "markdown",
   "metadata": {},
   "source": [
    "<img src='framework core structure.png'>"
   ]
  },
  {
   "cell_type": "markdown",
   "metadata": {},
   "source": [
    "The framework core structure tells us about five work flows: First, we need to identify the problem areas; Second, we need to explains any information assets or resources that we want to protect; Third, we need to describe how er can detect any treat that can be violated our resource or being intruded into our system and explain our situation now, whatever it is have been violated or intruded upon; Forth, we should capable to explain briefly how to response any violation or intrutions; Finally, we need to be able to do recovery from any damages caused by the intrutions. Detailed implementation of each five function above illustrated in an image below:"
   ]
  },
  {
   "cell_type": "markdown",
   "metadata": {},
   "source": [
    "<img src='detail-core.jpg'>"
   ]
  },
  {
   "cell_type": "markdown",
   "metadata": {},
   "source": [
    "By implementing this framework as a tool, we need to consider that cyber security is not all about technology, but policies and procedures."
   ]
  },
  {
   "cell_type": "code",
   "execution_count": null,
   "metadata": {},
   "outputs": [],
   "source": []
  }
 ],
 "metadata": {
  "kernelspec": {
   "display_name": "Python 3",
   "language": "python",
   "name": "python3"
  },
  "language_info": {
   "codemirror_mode": {
    "name": "ipython",
    "version": 3
   },
   "file_extension": ".py",
   "mimetype": "text/x-python",
   "name": "python",
   "nbconvert_exporter": "python",
   "pygments_lexer": "ipython3",
   "version": "3.5.2"
  }
 },
 "nbformat": 4,
 "nbformat_minor": 2
}
