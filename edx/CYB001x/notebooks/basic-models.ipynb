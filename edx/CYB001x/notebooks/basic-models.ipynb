{
 "cells": [
  {
   "cell_type": "markdown",
   "metadata": {},
   "source": [
    "# Basics Model\n",
    "\n",
    "Cyber security is not only about confidentials and secrets, but have been extended into maintaining data integrity as well as its availability. It's mean that how we offer high quality data integrity and availability is equally important to adaptation of high quality firewall, encriptions and intrusion detection. One from strong technical background may interpreate as how good the system can be survive from DoS (Denial of Service) attack. Another maybe look this case through statistical perspective about the chance of any attacks could treated the system. To understand this better, we need a general model that can be explain about cyber security into general language. CIA triad model is a model that good enough to illustrade corelation between data integrity, availability and confidentiality."
   ]
  },
  {
   "cell_type": "markdown",
   "metadata": {},
   "source": [
    "<img src='cia-triad.jpeg'>"
   ]
  },
  {
   "cell_type": "markdown",
   "metadata": {},
   "source": [
    "The CIA triad model quietly good enough to be used in technical and management paradigm. But, in the executive point of view, we need more rigid perspective about how we looked at cyber security. The McCumber cube is a model that widely used by information assurance since mainframe days."
   ]
  },
  {
   "cell_type": "markdown",
   "metadata": {},
   "source": [
    "<img src='mccumber-cube.jpeg'>"
   ]
  },
  {
   "cell_type": "markdown",
   "metadata": {},
   "source": [
    "The McCumber cude briefly tells us how to look Cyber Security in the view of information assurance. In this model we see that security countermeasures correspond to another two point of view: informations states and information characteristics. In the view of secity countermeasures, we interpreate that cyber security is not only about technology, but how we adopt policy, best practices, and human development such as training and education."
   ]
  }
 ],
 "metadata": {
  "kernelspec": {
   "display_name": "Python 3",
   "language": "python",
   "name": "python3"
  },
  "language_info": {
   "codemirror_mode": {
    "name": "ipython",
    "version": 3
   },
   "file_extension": ".py",
   "mimetype": "text/x-python",
   "name": "python",
   "nbconvert_exporter": "python",
   "pygments_lexer": "ipython3",
   "version": "3.5.2"
  }
 },
 "nbformat": 4,
 "nbformat_minor": 2
}
